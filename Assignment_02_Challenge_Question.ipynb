{
  "nbformat": 4,
  "nbformat_minor": 0,
  "metadata": {
    "colab": {
      "provenance": [],
      "authorship_tag": "ABX9TyMICX4xZsDLj+JbwgPQSqZ9",
      "include_colab_link": true
    },
    "kernelspec": {
      "name": "python3",
      "display_name": "Python 3"
    },
    "language_info": {
      "name": "python"
    }
  },
  "cells": [
    {
      "cell_type": "markdown",
      "metadata": {
        "id": "view-in-github",
        "colab_type": "text"
      },
      "source": [
        "<a href=\"https://colab.research.google.com/github/Aryan21129/Assignment-2-Challenge-Question/blob/main/Assignment_02_Challenge_Question.ipynb\" target=\"_parent\"><img src=\"https://colab.research.google.com/assets/colab-badge.svg\" alt=\"Open In Colab\"/></a>"
      ]
    },
    {
      "cell_type": "markdown",
      "source": [
        "## Write A python program to sort the list of heterogeneous data"
      ],
      "metadata": {
        "id": "kAeqLLT3s-nB"
      }
    },
    {
      "cell_type": "code",
      "source": [
        "L = [\"Tokyo\",35,\"Berlin\",67,\"RiO\",25]\n",
        "stra = []\n",
        "intr =[]\n",
        "for i in L:\n",
        "  if str(i).isnumeric()==True:\n",
        "    intr.append(i)\n",
        "  if str(i).isalpha()==True:\n",
        "    stra.append(i)\n",
        "\n",
        "  stra.sort()\n",
        "  intr.sort()\n",
        "\n",
        "  Resortedlist = intr+stra\n",
        "  print(Resortedlist)"
      ],
      "metadata": {
        "id": "BKQuMB1Jt_Kh",
        "colab": {
          "base_uri": "https://localhost:8080/"
        },
        "outputId": "7dfc5c2f-c4de-4671-e1ff-2dfc4886d2af"
      },
      "execution_count": 13,
      "outputs": [
        {
          "output_type": "stream",
          "name": "stdout",
          "text": [
            "['Tokyo']\n",
            "[35, 'Tokyo']\n",
            "[35, 'Berlin', 'Tokyo']\n",
            "[35, 67, 'Berlin', 'Tokyo']\n",
            "[35, 67, 'Berlin', 'RiO', 'Tokyo']\n",
            "[25, 35, 67, 'Berlin', 'RiO', 'Tokyo']\n"
          ]
        }
      ]
    },
    {
      "cell_type": "markdown",
      "source": [
        "##Second approch"
      ],
      "metadata": {
        "id": "PKQVo0CcAKPA"
      }
    },
    {
      "cell_type": "code",
      "source": [
        "L = [\"Tokyo\",'35',\"Berlin\",'67',\"RiO\",'25']\n",
        "L.sort()\n",
        "print(L)"
      ],
      "metadata": {
        "colab": {
          "base_uri": "https://localhost:8080/"
        },
        "id": "9rBfqMjKAJks",
        "outputId": "1b1ba952-7f39-42ee-aa6d-6a496dd0920a"
      },
      "execution_count": 14,
      "outputs": [
        {
          "output_type": "stream",
          "name": "stdout",
          "text": [
            "['25', '35', '67', 'Berlin', 'RiO', 'Tokyo']\n"
          ]
        }
      ]
    }
  ]
}